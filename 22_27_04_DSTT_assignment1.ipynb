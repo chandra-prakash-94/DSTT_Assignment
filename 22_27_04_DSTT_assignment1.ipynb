{
  "nbformat": 4,
  "nbformat_minor": 0,
  "metadata": {
    "colab": {
      "provenance": [],
      "authorship_tag": "ABX9TyODshm2Cta/KpFLvpPao4Xk",
      "include_colab_link": true
    },
    "kernelspec": {
      "name": "python3",
      "display_name": "Python 3"
    },
    "language_info": {
      "name": "python"
    }
  },
  "cells": [
    {
      "cell_type": "markdown",
      "metadata": {
        "id": "view-in-github",
        "colab_type": "text"
      },
      "source": [
        "<a href=\"https://colab.research.google.com/github/chandra-prakash-94/DSTT_Assignment/blob/main/22_27_04_DSTT_assignment1.ipynb\" target=\"_parent\"><img src=\"https://colab.research.google.com/assets/colab-badge.svg\" alt=\"Open In Colab\"/></a>"
      ]
    },
    {
      "cell_type": "code",
      "execution_count": null,
      "metadata": {
        "id": "DhjV0VbP1Dtq"
      },
      "outputs": [],
      "source": [
        "## Name  : CHANDRA PRAKASH\n",
        "## Reg No: 22-27-04"
      ]
    },
    {
      "cell_type": "markdown",
      "source": [
        "**Question 1**"
      ],
      "metadata": {
        "id": "tm_kp_7i22pe"
      }
    },
    {
      "cell_type": "markdown",
      "source": [
        "Given an array A of N numbers (int), WAP which prints the multiplication of the\n",
        "elements of array A with the corresponding elements of the reverse of array A.\n",
        "If A = [1,2,3], then reverse of A will be [3,2,1] and the result should be [3,4,3].\n",
        "\n",
        "Input Format:\n",
        "The first line of the input contains a number N The second line of the input contains\n",
        "N numbers separated by a space. (after the last elements, there is no space)\n",
        "\n",
        "Output Format:\n",
        "Print the resultant array of elements separated by a space. (no space after the last\n",
        "element)"
      ],
      "metadata": {
        "id": "_8SEKRPQ2yff"
      }
    },
    {
      "cell_type": "code",
      "source": [
        "N= int(input())\n",
        "A= [int(i) for i in input().split(\" \")]\n",
        "#A= list(map(int,input().split(\"\")))\n",
        "\n"
      ],
      "metadata": {
        "colab": {
          "base_uri": "https://localhost:8080/"
        },
        "id": "nzPU8-C94bK-",
        "outputId": "b456e3c6-480e-4e28-fe73-658bc205bc93"
      },
      "execution_count": null,
      "outputs": [
        {
          "name": "stdout",
          "output_type": "stream",
          "text": [
            "4\n",
            "1 2 3 4\n"
          ]
        }
      ]
    },
    {
      "cell_type": "code",
      "source": [
        "#A = [1,2,3,4]\n",
        "B=[]\n",
        "for i in range(len(A)-1,-1,-1):\n",
        "  B.append(A[i])\n",
        "C=[]\n",
        "for i in range(len(B)):\n",
        "  C.append(A[i]*B[i])\n",
        "\n"
      ],
      "metadata": {
        "id": "q_6FlzG31zup"
      },
      "execution_count": null,
      "outputs": []
    },
    {
      "cell_type": "code",
      "source": [
        "print(C)"
      ],
      "metadata": {
        "colab": {
          "base_uri": "https://localhost:8080/"
        },
        "id": "KHPePUaa3sw3",
        "outputId": "8451992b-229c-4229-be06-05a08c6091b4"
      },
      "execution_count": null,
      "outputs": [
        {
          "output_type": "stream",
          "name": "stdout",
          "text": [
            "[4, 6, 6, 4]\n"
          ]
        }
      ]
    },
    {
      "cell_type": "code",
      "source": [
        "for i in C:\n",
        "  print(i, end=\" \")"
      ],
      "metadata": {
        "colab": {
          "base_uri": "https://localhost:8080/"
        },
        "id": "wherf3c43zrP",
        "outputId": "ba393896-25ae-4351-d293-1c955c362e49"
      },
      "execution_count": null,
      "outputs": [
        {
          "output_type": "stream",
          "name": "stdout",
          "text": [
            "4 6 6 4 "
          ]
        }
      ]
    },
    {
      "cell_type": "markdown",
      "source": [
        "**Question 2**\n",
        "\n",
        "Given a list of numbers (integers), find second maximum and second minimum in\n",
        "this list.\n",
        "Input Format:\n",
        "The first line contains numbers separated by a space.\n",
        "Output Format:\n",
        "Print the second maximum and second minimum separated by a space"
      ],
      "metadata": {
        "id": "dX9d9Twh9b4l"
      }
    },
    {
      "cell_type": "code",
      "source": [
        "A= [int(i) for i in input().split(\" \")]"
      ],
      "metadata": {
        "colab": {
          "base_uri": "https://localhost:8080/"
        },
        "id": "5rdLBmxu9RMe",
        "outputId": "11413a18-d417-4e5b-c21b-0ef09ee7f78d"
      },
      "execution_count": null,
      "outputs": [
        {
          "name": "stdout",
          "output_type": "stream",
          "text": [
            "4 3 8 9\n"
          ]
        }
      ]
    },
    {
      "cell_type": "code",
      "source": [
        "A.sort()"
      ],
      "metadata": {
        "id": "cKVzmdu99sgG"
      },
      "execution_count": null,
      "outputs": []
    },
    {
      "cell_type": "code",
      "source": [
        "print(\"Second Maximum: \", A[-2])\n",
        "print(\"Second Minimum: \", A[1])"
      ],
      "metadata": {
        "colab": {
          "base_uri": "https://localhost:8080/"
        },
        "id": "wuMjVxlB901l",
        "outputId": "70769b46-53cf-4935-f061-6b77beab3f24"
      },
      "execution_count": null,
      "outputs": [
        {
          "output_type": "stream",
          "name": "stdout",
          "text": [
            "Second Maximum:  8\n",
            "Second Minimum:  4\n"
          ]
        }
      ]
    },
    {
      "cell_type": "markdown",
      "source": [
        "**Question 3**"
      ],
      "metadata": {
        "id": "6eomyFSQ-s_F"
      }
    },
    {
      "cell_type": "markdown",
      "source": [
        "Given a list A of numbers (integers), you have to print those numbers which are not\n",
        "multiples of 5.\n",
        "Input Format:\n",
        "The first line contains the numbers of list A separated by a space.\n",
        "Output Format:\n",
        "Print the numbers in a single line separated by a space which are not multiples of 5.\n",
        "Example:\n",
        "Input:\n",
        "1 2 3 4 5 6 5\n",
        "Output:\n",
        "1 2 3 4 6\n",
        "Explanation:\n",
        "Here the elements of A are 1,2,3,4,5,6,5 and since 5 is the multiple of 5, after removing\n",
        "them the list becomes 1,2,3,4,6."
      ],
      "metadata": {
        "id": "VxdDIBBP-u1-"
      }
    },
    {
      "cell_type": "code",
      "source": [
        "A= [int(i) for i in input().split(\" \")]"
      ],
      "metadata": {
        "colab": {
          "base_uri": "https://localhost:8080/"
        },
        "id": "reZc9w1d-FoV",
        "outputId": "f34d3c10-b8ea-48b7-9a32-f20f62ef4d6c"
      },
      "execution_count": null,
      "outputs": [
        {
          "name": "stdout",
          "output_type": "stream",
          "text": [
            "1 2 3 4 5 6 5\n"
          ]
        }
      ]
    },
    {
      "cell_type": "code",
      "source": [
        "for i in A:\n",
        "  if i%5!=0:\n",
        "    print(i,end=\" \")"
      ],
      "metadata": {
        "colab": {
          "base_uri": "https://localhost:8080/"
        },
        "id": "GCDxCnRV-0HF",
        "outputId": "25dffadf-ad7b-44ad-96c8-27107ceea3e4"
      },
      "execution_count": null,
      "outputs": [
        {
          "output_type": "stream",
          "name": "stdout",
          "text": [
            "1 2 3 4 6 "
          ]
        }
      ]
    },
    {
      "cell_type": "markdown",
      "source": [
        "**Question 4**"
      ],
      "metadata": {
        "id": "M57hRbyuAr38"
      }
    },
    {
      "cell_type": "markdown",
      "source": [
        "You are given a number A which contains only digits 0’s and 1’s. Your task is to\n",
        "make all digits same by just flipping one digit (i.e. 0 to 1 or 1 to 0 ) only. If it is\n",
        "possible to make all the digits same by just flipping one digit then print ’YES’ else\n",
        "print ’NO’.\n",
        "Input Format:\n",
        "The first line contains a number made up of 0’s and 1’s.\n",
        "Output Format:\n",
        "Print ’YES’ or ’NO’ accordingly without quotes.\n",
        "Example:\n",
        "Input:\n",
        "101\n",
        "Output:\n",
        "YES\n",
        "Explanation:\n",
        "If you flip the middle digit from 0 to 1 then all the digits will become same. Hence\n",
        "output is YES."
      ],
      "metadata": {
        "id": "jOZw4CuPAto0"
      }
    },
    {
      "cell_type": "code",
      "source": [
        "n=str(input())\n",
        "\n",
        "ones, zeroes = 0,0\n",
        "\n",
        "for i in range(len(n)):\n",
        "    if n[i] == '0':\n",
        "        zeroes +=1\n",
        "    elif n[i] == '1':\n",
        "        ones +=1\n",
        "\n",
        "if abs(ones-zeroes)==1:\n",
        "    print(\"YES\")\n",
        "else:\n",
        "    print(\"NO\")"
      ],
      "metadata": {
        "id": "ul3OHiXoACKI",
        "colab": {
          "base_uri": "https://localhost:8080/"
        },
        "outputId": "c349490a-8a13-4265-fe9c-01130d0db962"
      },
      "execution_count": 1,
      "outputs": [
        {
          "output_type": "stream",
          "name": "stdout",
          "text": [
            "101\n",
            "YES\n"
          ]
        }
      ]
    },
    {
      "cell_type": "markdown",
      "source": [
        "**Question 5**"
      ],
      "metadata": {
        "id": "L8vUILSANP0k"
      }
    },
    {
      "cell_type": "markdown",
      "source": [
        "Given an integer number n, you have to print the factorial of this number.\n",
        "Input Format:\n",
        "A number n.\n",
        "Output Format:\n",
        "Print the factorial of n.\n",
        "Example:\n",
        "Input:\n",
        "4\n",
        "Output:\n",
        "24"
      ],
      "metadata": {
        "id": "DZr1l37lNUcL"
      }
    },
    {
      "cell_type": "code",
      "source": [
        "n=int(input())\n",
        "nold=n\n",
        "fact=1\n",
        "while(n>0):\n",
        "  fact = fact*n\n",
        "  n =n-1\n",
        "\n",
        "print(f'factorial of {nold} is: {fact}')"
      ],
      "metadata": {
        "colab": {
          "base_uri": "https://localhost:8080/"
        },
        "id": "Ripj2eKgNOL8",
        "outputId": "45412d19-e802-4d31-88fd-7fd4f00989f2"
      },
      "execution_count": 3,
      "outputs": [
        {
          "output_type": "stream",
          "name": "stdout",
          "text": [
            "5\n",
            "factorial of 5 is: 120\n"
          ]
        }
      ]
    },
    {
      "cell_type": "markdown",
      "source": [
        "**Question 6**"
      ],
      "metadata": {
        "id": "-7DcpNxYOhH1"
      }
    },
    {
      "cell_type": "markdown",
      "source": [
        "Write a program, which will find all such numbers between m and n (both included)\n",
        "such that each digit of the number is an even number.\n",
        "Input Format:\n",
        "The first line contains value m and n separated by a comma.\n",
        "Output Format:\n",
        "The numbers obtained should be printed in a comma-separated sequence on a single\n",
        "line.\n",
        "Constraints:\n",
        "1000<=m<=9000\n",
        "1000<=n<=9000"
      ],
      "metadata": {
        "id": "kGQ7cY6ROloz"
      }
    },
    {
      "cell_type": "code",
      "source": [
        "lst=[int(i) for i in input().split(\",\")]\n",
        "m=lst[0]\n",
        "n=lst[1]\n",
        "items=[]\n",
        "for i in range(m,n+1):\n",
        "    s=str(i)\n",
        "    if(int(s[0])%2==0) and (int(s[1])%2==0) and (int(s[2])%2==0):\n",
        "        items.append(s)\n",
        "\n",
        "print(\",\".join(items))"
      ],
      "metadata": {
        "colab": {
          "base_uri": "https://localhost:8080/"
        },
        "id": "N55rmBN1OL3Y",
        "outputId": "5e78ea89-a6b6-42b8-968f-6e7b94f4bedd"
      },
      "execution_count": 4,
      "outputs": [
        {
          "output_type": "stream",
          "name": "stdout",
          "text": [
            "100,400\n",
            "200,202,204,206,208,220,222,224,226,228,240,242,244,246,248,260,262,264,266,268,280,282,284,286,288,400\n"
          ]
        }
      ]
    },
    {
      "cell_type": "code",
      "source": [],
      "metadata": {
        "id": "QQ_1H97nSMAv"
      },
      "execution_count": null,
      "outputs": []
    }
  ]
}